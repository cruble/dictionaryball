{
 "cells": [
  {
   "cell_type": "code",
   "execution_count": 2,
   "metadata": {
    "collapsed": true
   },
   "outputs": [],
   "source": [
    "game_dictionary = {}\n",
    "game_dictionary['home'] = {}\n",
    "game_dictionary['away'] = {}"
   ]
  },
  {
   "cell_type": "code",
   "execution_count": 68,
   "metadata": {},
   "outputs": [
    {
     "data": {
      "text/plain": [
       "{'away': {'colors': ['Turquoise', 'Purple'],\n",
       "  'players': {'Bismak Byombo': {'assists': 7,\n",
       "    'blocks': 15,\n",
       "    'number': 0,\n",
       "    'points': 12,\n",
       "    'rebounds': 4,\n",
       "    'shoe': 16,\n",
       "    'slam_dunks': 10,\n",
       "    'steals': 7},\n",
       "   'Jeff Adrien': {'assists': 1,\n",
       "    'blocks': 7,\n",
       "    'number': 4,\n",
       "    'points': 10,\n",
       "    'rebounds': 1,\n",
       "    'shoe': 18,\n",
       "    'slam_dunks': 2,\n",
       "    'steals': 2},\n",
       "   'player_name': {'assists': '',\n",
       "    'blocks': '',\n",
       "    'number': '',\n",
       "    'points': '',\n",
       "    'rebounds': '',\n",
       "    'shoe': '',\n",
       "    'slam_dunks': '',\n",
       "    'steals': ''}},\n",
       "  'team_name': 'Charlotte Hornets'},\n",
       " 'home': {'colors': ['Black', 'White'],\n",
       "  'players': {'Alan Anderson': {'assists': 12,\n",
       "    'blocks': 1,\n",
       "    'number': 0,\n",
       "    'points': 22,\n",
       "    'rebounds': 12,\n",
       "    'shoe': 16,\n",
       "    'slam_dunks': 1,\n",
       "    'steals': 3},\n",
       "   'Brook Lopez': {'assists': 10,\n",
       "    'blocks': 1,\n",
       "    'number': 11,\n",
       "    'points': 17,\n",
       "    'rebounds': 19,\n",
       "    'shoe': 17,\n",
       "    'slam_dunks': 15,\n",
       "    'steals': 3},\n",
       "   'Jason Terry': {'assists': 2,\n",
       "    'blocks': 11,\n",
       "    'number': 31,\n",
       "    'points': 19,\n",
       "    'rebounds': 2,\n",
       "    'shoe': 15,\n",
       "    'slam_dunks': 1,\n",
       "    'steals': 4},\n",
       "   'Mason Plumlee': {'assists': 6,\n",
       "    'blocks': 8,\n",
       "    'number': 1,\n",
       "    'points': 26,\n",
       "    'rebounds': 12,\n",
       "    'shoe': 19,\n",
       "    'slam_dunks': 5,\n",
       "    'steals': 3},\n",
       "   'Reggie Evans': {'assists': 12,\n",
       "    'blocks': 12,\n",
       "    'number': 30,\n",
       "    'points': 12,\n",
       "    'rebounds': 12,\n",
       "    'shoe': 14,\n",
       "    'slam_dunks': 7,\n",
       "    'steals': 12}},\n",
       "  'team_name': 'Brooklyn Nets'}}"
      ]
     },
     "execution_count": 68,
     "metadata": {},
     "output_type": "execute_result"
    }
   ],
   "source": [
    "game_dictionary"
   ]
  },
  {
   "cell_type": "code",
   "execution_count": 38,
   "metadata": {},
   "outputs": [],
   "source": [
    "game_dictionary['home'] = {'team_name': \"\" , 'colors': [] , 'players': {'player_name': {'number': '' , 'shoe': '', 'points': '', 'rebounds': '', 'assists': '', 'steals': '', 'blocks': '', 'slam_dunks': ''} }}"
   ]
  },
  {
   "cell_type": "code",
   "execution_count": null,
   "metadata": {
    "collapsed": true
   },
   "outputs": [],
   "source": [
    "#this is data structure / template \n",
    "{'team_name': \"\" , 'colors': [] , 'players': {'player_name': {'number':  , 'shoe': , 'points': , 'rebounds': , 'assists': , 'steals': , 'blocks': , 'slam_dunks':}}}"
   ]
  },
  {
   "cell_type": "code",
   "execution_count": 39,
   "metadata": {
    "collapsed": true
   },
   "outputs": [],
   "source": [
    "game_dictionary['away'] = {'team_name': \"\" , 'colors': [] , 'players': {'player_name': {'number': '' , 'shoe': '', 'points': '', 'rebounds': '', 'assists': '', 'steals': '', 'blocks': '', 'slam_dunks': ''} }}"
   ]
  },
  {
   "cell_type": "code",
   "execution_count": 63,
   "metadata": {},
   "outputs": [],
   "source": [
    "game_dictionary['away']['colors'] = ['Turquoise', 'Purple']"
   ]
  },
  {
   "cell_type": "code",
   "execution_count": 66,
   "metadata": {},
   "outputs": [],
   "source": [
    "#game_dictionary['away']['players']['DeSagna Diop'] = {'number': 0, 'shoe': 16, 'points': 12, 'rebounds': 4, 'assists': 7, 'steals': 7 , 'blocks': 15 , 'slam_dunks': 10 }\n",
    "#need to do Bismak Biyombo "
   ]
  },
  {
   "cell_type": "code",
   "execution_count": 81,
   "metadata": {},
   "outputs": [],
   "source": [
    "game_dictionary = {\n",
    "    'away': {\n",
    "        'colors': ['Turquoise', 'Purple'],\n",
    "        'players': {\n",
    "            'Ben Gordon': {\n",
    "                'assists': 2,\n",
    "                'blocks': 2,\n",
    "                'number': 8,\n",
    "                'points': 33,\n",
    "                'rebounds': 3,\n",
    "                'shoe': 15,\n",
    "                'slam_dunks': 0,\n",
    "                'steals': 2\n",
    "            },\n",
    "            'Bismak Byombo': {\n",
    "                'assists': 7,\n",
    "                'blocks': 15,\n",
    "                'number': 0,\n",
    "                'points': 12,\n",
    "                'rebounds': 4,\n",
    "                'shoe': 16,\n",
    "                'slam_dunks': 10,\n",
    "                'steals': 7\n",
    "            },\n",
    "            'Brendan Haywood': {\n",
    "                'assists': 2,\n",
    "                'blocks': 2,\n",
    "                'number': 8,\n",
    "                'points': 33,\n",
    "                'rebounds': 3,\n",
    "                'shoe': 15,\n",
    "                'slam_dunks': 0,\n",
    "                'steals': 2\n",
    "            },\n",
    "            'DeSagna Diop': {\n",
    "                'assists': 12,\n",
    "                'blocks': 5,\n",
    "                'number': 2,\n",
    "                'points': 24,\n",
    "                'rebounds': 12,\n",
    "                'shoe': 14,\n",
    "                'slam_dunks': 5,\n",
    "                'steals': 4\n",
    "            },\n",
    "            'Jeff Adrien': {\n",
    "                'assists': 1,\n",
    "                'blocks': 7,\n",
    "                'number': 4,\n",
    "                'points': 10,\n",
    "                'rebounds': 1,\n",
    "                'shoe': 18,\n",
    "                'slam_dunks': 2,\n",
    "                'steals': 2\n",
    "            }\n",
    "        },\n",
    "        'team_name': 'Charlotte Hornets'\n",
    "    },\n",
    "    'home': {\n",
    "        'colors': ['Black', 'White'],\n",
    "        'players': {\n",
    "            'Alan Anderson': {\n",
    "                'assists': 12,\n",
    "                'blocks': 1,\n",
    "                'number': 0,\n",
    "                'points': 22,\n",
    "                'rebounds': 12,\n",
    "                'shoe': 16,\n",
    "                'slam_dunks': 1,\n",
    "                'steals': 3\n",
    "            },\n",
    "            'Brook Lopez': {\n",
    "                'assists': 10,\n",
    "                'blocks': 1,\n",
    "                'number': 11,\n",
    "                'points': 17,\n",
    "                'rebounds': 19,\n",
    "                'shoe': 17,\n",
    "                'slam_dunks': 15,\n",
    "                'steals': 3\n",
    "            },\n",
    "            'Jason Terry': {\n",
    "                'assists': 2,\n",
    "                'blocks': 11,\n",
    "                'number': 31,\n",
    "                'points': 19,\n",
    "                'rebounds': 2,\n",
    "                'shoe': 15,\n",
    "                'slam_dunks': 1,\n",
    "                'steals': 4\n",
    "            },\n",
    "            'Mason Plumlee': {\n",
    "                'assists': 6,\n",
    "                'blocks': 8,\n",
    "                'number': 1,\n",
    "                'points': 26,\n",
    "                'rebounds': 12,\n",
    "                'shoe': 19,\n",
    "                'slam_dunks': 5,\n",
    "                'steals': 3\n",
    "            },\n",
    "            'Reggie Evans': {\n",
    "                'assists': 12,\n",
    "                'blocks': 12,\n",
    "                'number': 30,\n",
    "                'points': 12,\n",
    "                'rebounds': 12,\n",
    "                'shoe': 14,\n",
    "                'slam_dunks': 7,\n",
    "                'steals': 12\n",
    "            }\n",
    "        },\n",
    "        'team_name': 'Brooklyn Nets'\n",
    "    }\n",
    "}"
   ]
  },
  {
   "cell_type": "code",
   "execution_count": 82,
   "metadata": {},
   "outputs": [
    {
     "data": {
      "text/plain": [
       "{'away': {'colors': ['Turquoise', 'Purple'],\n",
       "  'players': {'Ben Gordon': {'assists': 2,\n",
       "    'blocks': 2,\n",
       "    'number': 8,\n",
       "    'points': 33,\n",
       "    'rebounds': 3,\n",
       "    'shoe': 15,\n",
       "    'slam_dunks': 0,\n",
       "    'steals': 2},\n",
       "   'Bismak Byombo': {'assists': 7,\n",
       "    'blocks': 15,\n",
       "    'number': 0,\n",
       "    'points': 12,\n",
       "    'rebounds': 4,\n",
       "    'shoe': 16,\n",
       "    'slam_dunks': 10,\n",
       "    'steals': 7},\n",
       "   'Brendan Haywood': {'assists': 2,\n",
       "    'blocks': 2,\n",
       "    'number': 8,\n",
       "    'points': 33,\n",
       "    'rebounds': 3,\n",
       "    'shoe': 15,\n",
       "    'slam_dunks': 0,\n",
       "    'steals': 2},\n",
       "   'DeSagna Diop': {'assists': 12,\n",
       "    'blocks': 5,\n",
       "    'number': 2,\n",
       "    'points': 24,\n",
       "    'rebounds': 12,\n",
       "    'shoe': 14,\n",
       "    'slam_dunks': 5,\n",
       "    'steals': 4},\n",
       "   'Jeff Adrien': {'assists': 1,\n",
       "    'blocks': 7,\n",
       "    'number': 4,\n",
       "    'points': 10,\n",
       "    'rebounds': 1,\n",
       "    'shoe': 18,\n",
       "    'slam_dunks': 2,\n",
       "    'steals': 2}},\n",
       "  'team_name': 'Charlotte Hornets'},\n",
       " 'home': {'colors': ['Black', 'White'],\n",
       "  'players': {'Alan Anderson': {'assists': 12,\n",
       "    'blocks': 1,\n",
       "    'number': 0,\n",
       "    'points': 22,\n",
       "    'rebounds': 12,\n",
       "    'shoe': 16,\n",
       "    'slam_dunks': 1,\n",
       "    'steals': 3},\n",
       "   'Brook Lopez': {'assists': 10,\n",
       "    'blocks': 1,\n",
       "    'number': 11,\n",
       "    'points': 17,\n",
       "    'rebounds': 19,\n",
       "    'shoe': 17,\n",
       "    'slam_dunks': 15,\n",
       "    'steals': 3},\n",
       "   'Jason Terry': {'assists': 2,\n",
       "    'blocks': 11,\n",
       "    'number': 31,\n",
       "    'points': 19,\n",
       "    'rebounds': 2,\n",
       "    'shoe': 15,\n",
       "    'slam_dunks': 1,\n",
       "    'steals': 4},\n",
       "   'Mason Plumlee': {'assists': 6,\n",
       "    'blocks': 8,\n",
       "    'number': 1,\n",
       "    'points': 26,\n",
       "    'rebounds': 12,\n",
       "    'shoe': 19,\n",
       "    'slam_dunks': 5,\n",
       "    'steals': 3},\n",
       "   'Reggie Evans': {'assists': 12,\n",
       "    'blocks': 12,\n",
       "    'number': 30,\n",
       "    'points': 12,\n",
       "    'rebounds': 12,\n",
       "    'shoe': 14,\n",
       "    'slam_dunks': 7,\n",
       "    'steals': 12}},\n",
       "  'team_name': 'Brooklyn Nets'}}"
      ]
     },
     "execution_count": 82,
     "metadata": {},
     "output_type": "execute_result"
    }
   ],
   "source": [
    "game_dictionary\n",
    "\n"
   ]
  },
  {
   "cell_type": "code",
   "execution_count": 73,
   "metadata": {},
   "outputs": [],
   "source": [
    "game_dictionary['away']['players']['DeSagna Diop'] = {'number': 2, 'shoe': 14, 'points': 24, 'rebounds': 12, 'assists': 12, 'steals': 4 , 'blocks': 5 , 'slam_dunks': 5 }\n",
    "\n",
    "game_dictionary['away']['players']['Ben Gordon'] = {'number': 8, 'shoe': 15, 'points': 33, 'rebounds': 3, 'assists': 2, 'steals': 2 , 'blocks': 2 , 'slam_dunks': 0 }\n",
    "\n",
    "game_dictionary['away']['players']['Brendan Haywood'] = {'number': 8, 'shoe': 15, 'points': 33, 'rebounds': 3, 'assists': 2, 'steals': 2 , 'blocks': 2 , 'slam_dunks': 0 }"
   ]
  },
  {
   "cell_type": "code",
   "execution_count": 88,
   "metadata": {},
   "outputs": [
    {
     "data": {
      "text/plain": [
       "{'Alan Anderson': {'assists': 12,\n",
       "  'blocks': 1,\n",
       "  'number': 0,\n",
       "  'points': 22,\n",
       "  'rebounds': 12,\n",
       "  'shoe': 16,\n",
       "  'slam_dunks': 1,\n",
       "  'steals': 3},\n",
       " 'Brook Lopez': {'assists': 10,\n",
       "  'blocks': 1,\n",
       "  'number': 11,\n",
       "  'points': 17,\n",
       "  'rebounds': 19,\n",
       "  'shoe': 17,\n",
       "  'slam_dunks': 15,\n",
       "  'steals': 3},\n",
       " 'Jason Terry': {'assists': 2,\n",
       "  'blocks': 11,\n",
       "  'number': 31,\n",
       "  'points': 19,\n",
       "  'rebounds': 2,\n",
       "  'shoe': 15,\n",
       "  'slam_dunks': 1,\n",
       "  'steals': 4},\n",
       " 'Mason Plumlee': {'assists': 6,\n",
       "  'blocks': 8,\n",
       "  'number': 1,\n",
       "  'points': 26,\n",
       "  'rebounds': 12,\n",
       "  'shoe': 19,\n",
       "  'slam_dunks': 5,\n",
       "  'steals': 3},\n",
       " 'Reggie Evans': {'assists': 12,\n",
       "  'blocks': 12,\n",
       "  'number': 30,\n",
       "  'points': 12,\n",
       "  'rebounds': 12,\n",
       "  'shoe': 14,\n",
       "  'slam_dunks': 7,\n",
       "  'steals': 12}}"
      ]
     },
     "execution_count": 88,
     "metadata": {},
     "output_type": "execute_result"
    }
   ],
   "source": [
    " game_dictionary['home']['players']\n",
    "    "
   ]
  },
  {
   "cell_type": "code",
   "execution_count": 90,
   "metadata": {},
   "outputs": [
    {
     "name": "stdout",
     "output_type": "stream",
     "text": [
      "22\n"
     ]
    },
    {
     "ename": "SyntaxError",
     "evalue": "'return' outside function (<ipython-input-90-f5a57433f52c>, line 8)",
     "output_type": "error",
     "traceback": [
      "\u001b[0;36m  File \u001b[0;32m\"<ipython-input-90-f5a57433f52c>\"\u001b[0;36m, line \u001b[0;32m8\u001b[0m\n\u001b[0;31m    return points\u001b[0m\n\u001b[0m                  ^\u001b[0m\n\u001b[0;31mSyntaxError\u001b[0m\u001b[0;31m:\u001b[0m 'return' outside function\n"
     ]
    }
   ],
   "source": [
    "player = 'Alan Anderson'\n",
    "\n",
    "if player in game_dictionary['home']['players']:\n",
    "    points = game_dictionary['home']['players'][player]['points']\n",
    "    print(points)\n",
    "else:\n",
    "    points = game_dictionary['away']['players'][player]['points']\n",
    "return points "
   ]
  },
  {
   "cell_type": "code",
   "execution_count": null,
   "metadata": {
    "collapsed": true
   },
   "outputs": [],
   "source": []
  }
 ],
 "metadata": {
  "kernelspec": {
   "display_name": "Python 3",
   "language": "python",
   "name": "python3"
  },
  "language_info": {
   "codemirror_mode": {
    "name": "ipython",
    "version": 3
   },
   "file_extension": ".py",
   "mimetype": "text/x-python",
   "name": "python",
   "nbconvert_exporter": "python",
   "pygments_lexer": "ipython3",
   "version": "3.6.1"
  }
 },
 "nbformat": 4,
 "nbformat_minor": 2
}
